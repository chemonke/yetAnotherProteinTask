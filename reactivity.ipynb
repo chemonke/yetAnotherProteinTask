{
 "cells": [
  {
   "cell_type": "code",
   "execution_count": 32,
   "id": "57d9e7b1",
   "metadata": {},
   "outputs": [
    {
     "name": "stdout",
     "output_type": "stream",
     "text": [
      "[12, 15, 41]\n"
     ]
    }
   ],
   "source": [
    "from Bio import SeqIO\n",
    "record = SeqIO.read(\"./3iwl/rcsb_pdb_3IWL.fasta\", \"fasta\")\n",
    "cys_positions = [i+1 for i, aa in enumerate(str(record.seq)) if aa == \"C\"]\n",
    "print(cys_positions)\n"
   ]
  },
  {
   "cell_type": "code",
   "execution_count": null,
   "id": "e8619c1c",
   "metadata": {},
   "outputs": [],
   "source": [
    "%%bash\n",
    "rm -rf library/*"
   ]
  },
  {
   "cell_type": "code",
   "execution_count": 53,
   "id": "755baf46",
   "metadata": {},
   "outputs": [
    {
     "name": "stdout",
     "output_type": "stream",
     "text": [
      "Built 200,001 total sequences (WT + variants)\n",
      "Wrote 200,001 sequences → library/library.fasta.gz  (4.07 MB)\n"
     ]
    }
   ],
   "source": [
    "from itertools import combinations, product\n",
    "from Bio import SeqIO\n",
    "from Bio.SeqRecord import SeqRecord\n",
    "from Bio.Seq import Seq\n",
    "from pathlib import Path\n",
    "import random, gzip\n",
    "\n",
    "# ───────────────────────────  USER SETTINGS  ────────────────────────────\n",
    "fasta_in     = \"./3iwl/rcsb_pdb_3IWL.fasta\"\n",
    "design_range = range(5, 22)          # inclusive (5–21)\n",
    "catalytic    = {12, 15}              # MUST stay C\n",
    "variants     = \"random\"              # \"single\", \"double\", \"full\", \"random\"\n",
    "lib_size     = 200000                # only used for \"random\"\n",
    "library_path = Path(\"library/library.fasta.gz\")   # .gz → compressed, .fasta → plain\n",
    "# ────────────────────────────────────────────────────────────────────────\n",
    "\n",
    "record  = SeqIO.read(fasta_in, \"fasta\")\n",
    "wt_seq  = str(record.seq)\n",
    "\n",
    "# positions we’re allowed to mutate\n",
    "positions = [p for p in design_range if p not in catalytic]\n",
    "choices   = {pos: (\"K\", \"R\") for pos in positions}\n",
    "\n",
    "# ── build mut_lists according to the library type ───────────────────────\n",
    "mut_lists = []\n",
    "\n",
    "if variants == \"single\":\n",
    "    mut_lists = [[(p, aa)] for p in positions for aa in choices[p]]\n",
    "\n",
    "elif variants == \"double\":\n",
    "    mut_lists = [[(p1, a1), (p2, a2)]\n",
    "                 for (p1, p2) in combinations(positions, 2)\n",
    "                 for (a1, a2) in product(choices[p1], choices[p2])]\n",
    "\n",
    "elif variants == \"full\":\n",
    "    per_site = [(*choices[p], None) for p in positions]          # None = keep WT\n",
    "    for aa_tuple in product(*per_site):\n",
    "        mut = [(p, aa) for p, aa in zip(positions, aa_tuple) if aa is not None]\n",
    "        if mut:                                                  # drop all-WT case\n",
    "            mut_lists.append(mut)\n",
    "\n",
    "elif variants == \"random\":\n",
    "    seen, rng = set(), random.Random(42)\n",
    "    while len(mut_lists) < lib_size:\n",
    "        k   = rng.randint(1, len(positions))                     # # sites to mutate\n",
    "        pos = rng.sample(positions, k)\n",
    "        mut = [(p, rng.choice(choices[p])) for p in pos]\n",
    "        sig = tuple(sorted(mut))\n",
    "        if sig not in seen:\n",
    "            seen.add(sig)\n",
    "            mut_lists.append(mut)\n",
    "\n",
    "else:\n",
    "    raise ValueError(\"variants must be one of: single, double, full, random\")\n",
    "\n",
    "# ── assemble SeqRecord objects ──────────────────────────────────────────\n",
    "base_id = record.id.split(\"|\", 1)[0]           # remove any upstream pipes\n",
    "records = []\n",
    "\n",
    "# optional: include wild-type first\n",
    "records.append(\n",
    "    SeqRecord(Seq(wt_seq),\n",
    "              id=\"WT|WT|WT\",         # three fields separated by “|”\n",
    "              description=\"wild-type\")\n",
    ")\n",
    "\n",
    "\n",
    "for i, muts in enumerate(mut_lists, 1):\n",
    "    seq_list = list(wt_seq)\n",
    "    tags     = []\n",
    "    for pos, aa in muts:\n",
    "        idx = pos - 1\n",
    "        tags.append(f\"{wt_seq[idx]}{pos}{aa}\")\n",
    "        seq_list[idx] = aa\n",
    "\n",
    "    var_seq  = \"\".join(seq_list)\n",
    "    tag_str  = \"-\".join(tags)\n",
    "    var_id   = f\"{base_id}|VAR{i:05d}|{tag_str}\"\n",
    "    records.append(SeqRecord(Seq(var_seq), id=var_id, description=\"\"))\n",
    "\n",
    "print(f\"Built {len(records):,} total sequences (WT + variants)\")\n",
    "\n",
    "# ── write them all at once ──────────────────────────────────────────────\n",
    "library_path.parent.mkdir(parents=True, exist_ok=True)\n",
    "\n",
    "if library_path.suffix == \".gz\":\n",
    "    with gzip.open(library_path, \"wt\") as handle:\n",
    "        SeqIO.write(records, handle, \"fasta\")\n",
    "else:\n",
    "    with library_path.open(\"wt\") as handle:\n",
    "        SeqIO.write(records, handle, \"fasta\")\n",
    "\n",
    "size_mb = library_path.stat().st_size / 1_000_000\n",
    "print(f\"Wrote {len(records):,} sequences → {library_path}  ({size_mb:.2f} MB)\")\n"
   ]
  },
  {
   "cell_type": "code",
   "execution_count": 6,
   "id": "dd03f003",
   "metadata": {},
   "outputs": [
    {
     "name": "stderr",
     "output_type": "stream",
     "text": [
      "Cloning into 'sbPCR'...\n"
     ]
    }
   ],
   "source": [
    "%%bash\n",
    "git clone https://github.com/wendao/sbPCR"
   ]
  },
  {
   "cell_type": "markdown",
   "id": "a6e6db08",
   "metadata": {},
   "source": [
    "note that you need `libsvm` installed for the next steps."
   ]
  },
  {
   "cell_type": "code",
   "execution_count": 54,
   "id": "391cd0c3",
   "metadata": {},
   "outputs": [
    {
     "name": "stderr",
     "output_type": "stream",
     "text": [
      "+ rm -rf sbPCR_run\n",
      "+ mkdir sbPCR_run\n",
      "+ gunzip -c library/library.fasta.gz\n",
      "+ cd sbPCR_run\n",
      "+ python ../sbPCR/scripts/get_align.py ../library/library.fasta\n",
      "+ python ../sbPCR/scripts/get_feature.py\n",
      "+ svm-predict formated_input ../sbPCR/models/train_v1.model predict\n"
     ]
    },
    {
     "name": "stdout",
     "output_type": "stream",
     "text": [
      "Accuracy = 88.2122% (529276/600003) (classification)\n"
     ]
    }
   ],
   "source": [
    "%%bash\n",
    "rm -rf sbPCR_run && mkdir sbPCR_run\n",
    "gunzip -c library/library.fasta.gz > library/library.fasta\n",
    "\n",
    "cd sbPCR_run\n",
    "python ../sbPCR/scripts/get_align.py  ../library/library.fasta\n",
    "python ../sbPCR/scripts/get_feature.py\n",
    "svm-predict  formated_input  ../sbPCR/models/train_v1.model  predict\n"
   ]
  },
  {
   "cell_type": "code",
   "execution_count": 67,
   "id": "55a28ff2",
   "metadata": {},
   "outputs": [
    {
     "name": "stdout",
     "output_type": "stream",
     "text": [
      "WT reactive at both cysteines?  False\n",
      "20446/200000 = 10.22% variants have both Cys 12 and Cys 15 predicted reactive\n"
     ]
    }
   ],
   "source": [
    "import pandas as pd, pathlib\n",
    "\n",
    "wd = pathlib.Path(\"sbPCR_run\")\n",
    "\n",
    "# 1 ─ read sbPCR outputs (label only) ──────────────────────────────────\n",
    "align = pd.read_csv(\n",
    "    wd / \"align\",  sep=r\"\\s+\",  header=None,\n",
    "    names=[\"variant\", \"pos\", \"window\"]\n",
    ")\n",
    "pred  = pd.read_csv(\n",
    "    wd / \"predict\", sep=r\"\\s+\", header=None,\n",
    "    names=[\"label\"], dtype={\"label\": int}\n",
    ")\n",
    "\n",
    "data = pd.concat([align, pred], axis=1)\n",
    "\n",
    "# 2 ─ is WT reactive at both catalytic sites? ──────────────────────────\n",
    "wt_rows = data[data.variant.str.startswith(\"WT\") & data.pos.isin([12, 15])]\n",
    "wt_reactive = (len(wt_rows) == 2) and (wt_rows[\"label\"] == 1).all()\n",
    "print(\"WT reactive at both cysteines? \", wt_reactive)\n",
    "\n",
    "# 3 ─ variants with *both* sites reactive ──────────────────────────────\n",
    "both_hits = (\n",
    "    data.query(\"pos in [12, 15] and label == 1\")\n",
    "        .groupby(\"variant\")\n",
    "        .size()                          # count reactive catalytic sites\n",
    "        .loc[lambda s: s == 2]           # keep only if both sites reactive\n",
    "        .index\n",
    ")\n",
    "\n",
    "n_hits = len(both_hits)          # integer\n",
    "pct    = n_hits / lib_size * 100 # percentage\n",
    "\n",
    "print(f\"{n_hits}/{lib_size} = {pct:.2f}% variants have both Cys 12 and Cys 15 predicted reactive\")"
   ]
  }
 ],
 "metadata": {
  "kernelspec": {
   "display_name": "Python 3",
   "language": "python",
   "name": "python3"
  },
  "language_info": {
   "codemirror_mode": {
    "name": "ipython",
    "version": 3
   },
   "file_extension": ".py",
   "mimetype": "text/x-python",
   "name": "python",
   "nbconvert_exporter": "python",
   "pygments_lexer": "ipython3",
   "version": "3.12.10"
  }
 },
 "nbformat": 4,
 "nbformat_minor": 5
}
