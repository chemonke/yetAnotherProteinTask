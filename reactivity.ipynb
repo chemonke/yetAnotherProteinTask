{
 "cells": [
  {
   "cell_type": "code",
   "execution_count": 4,
   "id": "57d9e7b1",
   "metadata": {},
   "outputs": [
    {
     "name": "stdout",
     "output_type": "stream",
     "text": [
      "[12, 15, 41]\n"
     ]
    }
   ],
   "source": [
    "from Bio import SeqIO\n",
    "record = SeqIO.read(\"./3iwl/rcsb_pdb_3IWL.fasta\", \"fasta\")\n",
    "cys_positions = [i+1 for i, aa in enumerate(str(record.seq)) if aa == \"C\"]\n",
    "print(cys_positions)\n"
   ]
  },
  {
   "cell_type": "code",
   "execution_count": 5,
   "id": "e8619c1c",
   "metadata": {},
   "outputs": [],
   "source": [
    "%%bash\n",
    "rm -rf library/*"
   ]
  },
  {
   "cell_type": "code",
   "execution_count": 20,
   "id": "755baf46",
   "metadata": {},
   "outputs": [
    {
     "name": "stdout",
     "output_type": "stream",
     "text": [
      "Built 2,000 variant sequences in memory\n",
      "Wrote 2,000 variants → library.fasta.gz  (0.25 MB)\n"
     ]
    }
   ],
   "source": [
    "from itertools import combinations, product\n",
    "from Bio import SeqIO\n",
    "from Bio.SeqRecord import SeqRecord\n",
    "from Bio.Seq import Seq\n",
    "import random, os, pathlib\n",
    "\n",
    "# ───────────────────────────  USER SETTINGS  ────────────────────────────\n",
    "fasta_in     = \"./3iwl/rcsb_pdb_3IWL.fasta\"\n",
    "design_range = range(5, 22)        # inclusive (5-21)\n",
    "catalytic    = {12, 15}            # MUST stay C\n",
    "variants     = \"random\"            # \"single\", \"double\", \"full\", \"random\"\n",
    "lib_size     = 2000                # only used for \"random\"\n",
    "out_dir      = pathlib.Path(\"library/3iwl\")  # one file per variant\n",
    "out_dir.mkdir(parents=True, exist_ok=True)\n",
    "# ────────────────────────────────────────────────────────────────────────\n",
    "\n",
    "record   = SeqIO.read(fasta_in, \"fasta\")\n",
    "wt_seq   = str(record.seq)\n",
    "\n",
    "# positions eligible for mutation\n",
    "positions = [p for p in design_range if p not in catalytic]\n",
    "\n",
    "# allowed substitutions at every mutable position\n",
    "choices = {pos: (\"K\", \"R\") for pos in positions}\n",
    "\n",
    "# -----------------------------------------------------------------------\n",
    "# build the list of mutation sets (mut_lists) according to library type\n",
    "# -----------------------------------------------------------------------\n",
    "mut_lists = []\n",
    "\n",
    "if variants == \"single\":\n",
    "    mut_lists = [[(p, aa)]                   # one tuple  (pos, newAA)\n",
    "                 for p in positions\n",
    "                 for aa in choices[p]]\n",
    "\n",
    "elif variants == \"double\":\n",
    "    mut_lists = [[(p1, a1), (p2, a2)]        # two independent positions\n",
    "                 for (p1, p2) in combinations(positions, 2)\n",
    "                 for (a1, a2) in product(choices[p1], choices[p2])]\n",
    "\n",
    "elif variants == \"full\":\n",
    "    # Cartesian product of {original, K, R} at every position\n",
    "    #   – keep original by inserting None\n",
    "    #   – skip the all-None case (identical to WT)\n",
    "    per_site = [(*choices[p], None) for p in positions]\n",
    "    for aa_tuple in product(*per_site):\n",
    "        mut = [(p, aa) for p, aa in zip(positions, aa_tuple) if aa is not None]\n",
    "        if mut:                          # drop WT\n",
    "            mut_lists.append(mut)\n",
    "\n",
    "elif variants == \"random\":\n",
    "    seen = set()\n",
    "    rng = random.Random(42)\n",
    "    while len(mut_lists) < lib_size:\n",
    "        k   = rng.randint(1, len(positions))          # how many sites to mutate\n",
    "        pos = rng.sample(positions, k)\n",
    "        mut = [(p, rng.choice(choices[p])) for p in pos]\n",
    "        key = tuple(sorted(mut))\n",
    "        if key not in seen:\n",
    "            seen.add(key)\n",
    "            mut_lists.append(mut)\n",
    "\n",
    "else:\n",
    "    raise ValueError(\"variants must be one of: single, double, full, random\")\n",
    "\n",
    "# -----------------------------------------------------------------------\n",
    "# write one FASTA per variant  (header:  protein|VARxxxxx|T11K-G14R …)\n",
    "# -----------------------------------------------------------------------\n",
    "base_id = record.id.split(\"|\", 1)[0]          # strip any upstream pipes\n",
    "written = 0\n",
    "\n",
    "records = []\n",
    "for i, muts in enumerate(mut_lists, 1):\n",
    "    seq_list = list(wt_seq)\n",
    "    tags     = []\n",
    "\n",
    "    for pos, aa in muts:\n",
    "        idx = pos - 1\n",
    "        tags.append(f\"{wt_seq[idx]}{pos}{aa}\")\n",
    "        seq_list[idx] = aa\n",
    "\n",
    "    var_seq = \"\".join(seq_list)\n",
    "    tag_str = \"-\".join(tags) or \"WT\"            # ensure non-empty for WT case\n",
    "    var_id  = f\"{base_id}|VAR{i:05d}|{tag_str}\"\n",
    "\n",
    "    records.append(SeqRecord(Seq(var_seq), id=var_id, description=\"\"))\n",
    "\n",
    "print(f\"Built {len(records):,} variant sequences in memory\")\n",
    "\n",
    "# ─────────────── write *once* to a single FASTA (gz optional) ───────────\n",
    "library_path = Path(\"library.fasta.gz\")         # ← change to .fasta if no gzip\n",
    "with open(library_path, \"wt\") as handle:   # use open(...) for plain text\n",
    "    SeqIO.write(records, handle, \"fasta\")\n",
    "\n",
    "size_mb = library_path.stat().st_size / 1_000_000\n",
    "print(f\"Wrote {len(records):,} variants → {library_path}  ({size_mb:.2f} MB)\")"
   ]
  },
  {
   "cell_type": "code",
   "execution_count": 6,
   "id": "dd03f003",
   "metadata": {},
   "outputs": [
    {
     "name": "stderr",
     "output_type": "stream",
     "text": [
      "Cloning into 'sbPCR'...\n"
     ]
    }
   ],
   "source": [
    "%%bash\n",
    "git clone https://github.com/wendao/sbPCR"
   ]
  },
  {
   "cell_type": "code",
   "execution_count": 9,
   "id": "77b8bd76",
   "metadata": {},
   "outputs": [],
   "source": [
    "%%bash\n",
    "nix-shell -p libsvm"
   ]
  },
  {
   "cell_type": "code",
   "execution_count": 21,
   "id": "23ece4dd",
   "metadata": {},
   "outputs": [
    {
     "name": "stdout",
     "output_type": "stream",
     "text": [
      "Wrote 2,000 records to library/library.fasta  (0.25 MB)\n",
      "example header: 3IWL_1|VAR00981|G13K-S7R-E5K-V19R-R21K-G14R-D9R\n"
     ]
    }
   ],
   "source": [
    "from pathlib import Path\n",
    "from Bio import SeqIO\n",
    "\n",
    "src_dir   = Path('library/3iwl')\n",
    "out_file  = Path('library/library.fasta')\n",
    "\n",
    "# aggregate all variant files\n",
    "records = []\n",
    "for f in src_dir.glob('*.fasta'):\n",
    "    records.extend(SeqIO.parse(f, 'fasta'))\n",
    "\n",
    "_ = SeqIO.write(records, out_file, 'fasta')\n",
    "print(f\"Wrote {len(records):,} records to {out_file}  \"\n",
    "      f\"({out_file.stat().st_size/1e6:.2f} MB)\")\n",
    "print(\"example header:\", records[0].id)\n"
   ]
  },
  {
   "cell_type": "code",
   "execution_count": 22,
   "id": "5587d413",
   "metadata": {},
   "outputs": [
    {
     "name": "stderr",
     "output_type": "stream",
     "text": [
      "+ rm -rf sbPCR_run\n",
      "+ mkdir sbPCR_run\n",
      "+ cd sbPCR_run\n",
      "+ python ../sbPCR/scripts/get_align.py ../library/library.fasta\n"
     ]
    }
   ],
   "source": [
    "%%bash\n",
    "set -eux            # -e stop on error, -u undefined var, -x echo commands\n",
    "\n",
    "# 0. fresh scratch\n",
    "rm -rf sbPCR_run && mkdir sbPCR_run\n",
    "cd sbPCR_run\n",
    "\n",
    "# 1. window extraction\n",
    "python ../sbPCR/scripts/get_align.py  ../library/library.fasta\n"
   ]
  },
  {
   "cell_type": "code",
   "execution_count": 23,
   "id": "d84d2e4d",
   "metadata": {},
   "outputs": [
    {
     "name": "stderr",
     "output_type": "stream",
     "text": [
      "+ cd sbPCR_run\n",
      "+ python ../sbPCR/scripts/get_feature.py\n"
     ]
    }
   ],
   "source": [
    "%%bash\n",
    "set -eux\n",
    "cd sbPCR_run\n",
    "\n",
    "python ../sbPCR/scripts/get_feature.py\n"
   ]
  },
  {
   "cell_type": "code",
   "execution_count": 24,
   "id": "c0417728",
   "metadata": {},
   "outputs": [
    {
     "name": "stderr",
     "output_type": "stream",
     "text": [
      "+ cd sbPCR_run\n",
      "+ svm-predict formated_input ../sbPCR/models/train_v1.model predict\n"
     ]
    },
    {
     "name": "stdout",
     "output_type": "stream",
     "text": [
      "Accuracy = 89.5% (5370/6000) (classification)\n"
     ]
    }
   ],
   "source": [
    "%%bash\n",
    "set -eux\n",
    "cd sbPCR_run\n",
    "\n",
    "svm-predict \\\n",
    "    formated_input \\\n",
    "    ../sbPCR/models/train_v1.model \\\n",
    "    predict\n"
   ]
  },
  {
   "cell_type": "code",
   "execution_count": 25,
   "id": "15b029a9",
   "metadata": {},
   "outputs": [
    {
     "name": "stdout",
     "output_type": "stream",
     "text": [
      "630 variants predicted reactive at Cys 12 or 15\n"
     ]
    },
    {
     "data": {
      "text/html": [
       "<div>\n",
       "<style scoped>\n",
       "    .dataframe tbody tr th:only-of-type {\n",
       "        vertical-align: middle;\n",
       "    }\n",
       "\n",
       "    .dataframe tbody tr th {\n",
       "        vertical-align: top;\n",
       "    }\n",
       "\n",
       "    .dataframe thead th {\n",
       "        text-align: right;\n",
       "    }\n",
       "</style>\n",
       "<table border=\"1\" class=\"dataframe\">\n",
       "  <thead>\n",
       "    <tr style=\"text-align: right;\">\n",
       "      <th></th>\n",
       "      <th>variant</th>\n",
       "      <th>pos</th>\n",
       "      <th>window</th>\n",
       "      <th>label</th>\n",
       "      <th>score</th>\n",
       "    </tr>\n",
       "  </thead>\n",
       "  <tbody>\n",
       "    <tr>\n",
       "      <th>16</th>\n",
       "      <td>VAR00055</td>\n",
       "      <td>15</td>\n",
       "      <td>------MPKHRFRRRRRCKRCKKKRRRVLNKLGGVKYDIDL</td>\n",
       "      <td>1</td>\n",
       "      <td>NaN</td>\n",
       "    </tr>\n",
       "    <tr>\n",
       "      <th>22</th>\n",
       "      <td>VAR00043</td>\n",
       "      <td>15</td>\n",
       "      <td>------MPKHEFSVKMKCGGCKEAVKRVLNKLGGVKYDIDL</td>\n",
       "      <td>1</td>\n",
       "      <td>NaN</td>\n",
       "    </tr>\n",
       "    <tr>\n",
       "      <th>33</th>\n",
       "      <td>VAR01537</td>\n",
       "      <td>12</td>\n",
       "      <td>---------MPKHRRRKDRRCRGCRKRKSRVLNKLGGVKYD</td>\n",
       "      <td>1</td>\n",
       "      <td>NaN</td>\n",
       "    </tr>\n",
       "    <tr>\n",
       "      <th>34</th>\n",
       "      <td>VAR01537</td>\n",
       "      <td>15</td>\n",
       "      <td>------MPKHRRRKDRRCRGCRKRKSRVLNKLGGVKYDIDL</td>\n",
       "      <td>1</td>\n",
       "      <td>NaN</td>\n",
       "    </tr>\n",
       "    <tr>\n",
       "      <th>39</th>\n",
       "      <td>VAR00035</td>\n",
       "      <td>12</td>\n",
       "      <td>---------MPKHRRSKRKRCRGCRKRVKRVLNKLGGVKYD</td>\n",
       "      <td>1</td>\n",
       "      <td>NaN</td>\n",
       "    </tr>\n",
       "  </tbody>\n",
       "</table>\n",
       "</div>"
      ],
      "text/plain": [
       "     variant  pos                                     window  label  score\n",
       "16  VAR00055   15  ------MPKHRFRRRRRCKRCKKKRRRVLNKLGGVKYDIDL      1    NaN\n",
       "22  VAR00043   15  ------MPKHEFSVKMKCGGCKEAVKRVLNKLGGVKYDIDL      1    NaN\n",
       "33  VAR01537   12  ---------MPKHRRRKDRRCRGCRKRKSRVLNKLGGVKYD      1    NaN\n",
       "34  VAR01537   15  ------MPKHRRRKDRRCRGCRKRKSRVLNKLGGVKYDIDL      1    NaN\n",
       "39  VAR00035   12  ---------MPKHRRSKRKRCRGCRKRVKRVLNKLGGVKYD      1    NaN"
      ]
     },
     "execution_count": 25,
     "metadata": {},
     "output_type": "execute_result"
    }
   ],
   "source": [
    "import pandas as pd, pathlib\n",
    "wd = pathlib.Path('sbPCR_run')\n",
    "\n",
    "align = pd.read_csv(wd/'align',   sep=' ', header=None,\n",
    "                    names=['variant','pos','window'])\n",
    "pred = pd.read_csv(wd/'predict', sep=r'\\s+', engine='python',\n",
    "                   header=None, names=['label','score'])\n",
    "\n",
    "\n",
    "results = pd.concat([align, pred], axis=1)\n",
    "\n",
    "hits = (results\n",
    "        .query('pos in [12, 15] and label == 1')\n",
    "        .sort_values('score', ascending=False))\n",
    "\n",
    "print(f\"{len(hits)} variants predicted reactive at Cys 12 or 15\")\n",
    "hits.head()\n"
   ]
  }
 ],
 "metadata": {
  "kernelspec": {
   "display_name": "Python 3",
   "language": "python",
   "name": "python3"
  },
  "language_info": {
   "codemirror_mode": {
    "name": "ipython",
    "version": 3
   },
   "file_extension": ".py",
   "mimetype": "text/x-python",
   "name": "python",
   "nbconvert_exporter": "python",
   "pygments_lexer": "ipython3",
   "version": "3.12.10"
  }
 },
 "nbformat": 4,
 "nbformat_minor": 5
}
